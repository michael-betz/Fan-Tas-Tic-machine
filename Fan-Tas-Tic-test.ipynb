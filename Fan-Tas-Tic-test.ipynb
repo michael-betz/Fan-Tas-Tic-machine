{
 "cells": [
  {
   "cell_type": "code",
   "execution_count": 1,
   "metadata": {
    "collapsed": true
   },
   "outputs": [],
   "source": [
    "import os, serial, time\n",
    "from numpy import *\n",
    "from colorsys import *"
   ]
  },
  {
   "cell_type": "markdown",
   "metadata": {},
   "source": [
    "# Communication functions"
   ]
  },
  {
   "cell_type": "code",
   "execution_count": 2,
   "metadata": {
    "collapsed": true
   },
   "outputs": [],
   "source": [
    "def updateLed( sObj, dat=None, channel=0 ):\n",
    "    if dat is None:\n",
    "        nLeds = 1024\n",
    "        ledDat = bytearray( os.urandom( nLeds*3 ) )\n",
    "    elif type(dat) is int:\n",
    "        nLeds = dat\n",
    "        ledDat = bytearray( os.urandom( nLeds*3 ) )\n",
    "    else:\n",
    "        nLeds = len(dat)\n",
    "        ledDat = bytearray( dat )\n",
    "    sDat = bytes(\"LED {0} {1}\\n\".format(channel, len(ledDat)), \"utf8\") + ledDat\n",
    "    sObj.write( sDat )"
   ]
  },
  {
   "cell_type": "markdown",
   "metadata": {},
   "source": [
    "# Open serial port connection"
   ]
  },
  {
   "cell_type": "code",
   "execution_count": 6,
   "metadata": {
    "collapsed": true
   },
   "outputs": [],
   "source": [
    "try:\n",
    "    s.close()\n",
    "except:\n",
    "    pass\n",
    "s = serial.Serial( \"/dev/ttyACM1\", timeout=1 )"
   ]
  },
  {
   "cell_type": "markdown",
   "metadata": {},
   "source": [
    "# Get ID and Software Version"
   ]
  },
  {
   "cell_type": "code",
   "execution_count": 7,
   "metadata": {},
   "outputs": [
    {
     "data": {
      "text/plain": [
       "b'ID:MB:V0.1\\n'"
      ]
     },
     "execution_count": 7,
     "metadata": {},
     "output_type": "execute_result"
    }
   ],
   "source": [
    "s.read_all()          #Clear receive buffer\n",
    "s.write(b\"\\n*IDN?\\n\") #First \\n clears send buffer\n",
    "s.read_until()"
   ]
  },
  {
   "cell_type": "markdown",
   "metadata": {},
   "source": [
    "# Get Switch state"
   ]
  },
  {
   "cell_type": "code",
   "execution_count": 5,
   "metadata": {
    "scrolled": false
   },
   "outputs": [
    {
     "data": {
      "text/plain": [
       "b'SW:f6ffffffffffffff0000ff0000000000000000000000000000000000000000000000000000000000\\n'"
      ]
     },
     "execution_count": 5,
     "metadata": {},
     "output_type": "execute_result"
    }
   ],
   "source": [
    "#%%timeit   #1000 loops, best of 3: 1.78 ms per loop\n",
    "s.write(b\"SW?\\n\")\n",
    "s.read_until()"
   ]
  },
  {
   "cell_type": "markdown",
   "metadata": {},
   "source": [
    "# Setup high and low speed WS2811 / WS2812 LED strands"
   ]
  },
  {
   "cell_type": "code",
   "execution_count": 21,
   "metadata": {},
   "outputs": [
    {
     "data": {
      "text/plain": [
       "14"
      ]
     },
     "execution_count": 21,
     "metadata": {},
     "output_type": "execute_result"
    }
   ],
   "source": [
    "s.write(b\"LEC 0 3200000\\n\")\n",
    "s.write(b\"LEC 1 1700000\\n\")\n",
    "s.write(b\"LEC 2 3200000\\n\")"
   ]
  },
  {
   "cell_type": "markdown",
   "metadata": {},
   "source": [
    "# Benchmark LED throughput (worst case)"
   ]
  },
  {
   "cell_type": "code",
   "execution_count": 17,
   "metadata": {},
   "outputs": [
    {
     "name": "stdout",
     "output_type": "stream",
     "text": [
      "40 ms ± 998 ns per loop (mean ± std. dev. of 7 runs, 10 loops each)\n"
     ]
    }
   ],
   "source": [
    "%%timeit\n",
    "x = array( ones(1024*3), dtype=uint8)\n",
    "updateLed(s, x, 0)\n",
    "updateLed(s, x, 1)\n",
    "updateLed(s, x, 2)\n",
    "# [Only USB comm.] 10 loops, best of 100: 36.0 ms per loop (28 Hz)\n",
    "# [USB + SPI send] 10 loops, best of 100: 45.5 ms per loop (22 Hz)"
   ]
  },
  {
   "cell_type": "markdown",
   "metadata": {},
   "source": [
    "It looks like the USB communication is the bottleneck at the moment. Note that the firmware can transmit on several channels simultaneously but will block if a channel is updated, which has not finished transmitting yet.\n",
    "\n",
    "**TLDR:** If you need > 30 Hz refresh rate, do not connect more than 512 LEDs per string"
   ]
  },
  {
   "cell_type": "markdown",
   "metadata": {},
   "source": [
    "# Play with LEDs"
   ]
  },
  {
   "cell_type": "markdown",
   "metadata": {},
   "source": [
    "### Glitch test"
   ]
  },
  {
   "cell_type": "markdown",
   "metadata": {},
   "source": [
    "Do many sets of the same values. LEDs should not flicker at all!"
   ]
  },
  {
   "cell_type": "code",
   "execution_count": 22,
   "metadata": {},
   "outputs": [
    {
     "ename": "KeyboardInterrupt",
     "evalue": "",
     "output_type": "error",
     "traceback": [
      "\u001b[0;31m---------------------------------------------------------------------------\u001b[0m",
      "\u001b[0;31mKeyboardInterrupt\u001b[0m                         Traceback (most recent call last)",
      "\u001b[0;32m<ipython-input-22-20163b88aacd>\u001b[0m in \u001b[0;36m<module>\u001b[0;34m()\u001b[0m\n\u001b[1;32m      3\u001b[0m \u001b[0;31m#x[-6:] = 1\u001b[0m\u001b[0;34m\u001b[0m\u001b[0;34m\u001b[0m\u001b[0m\n\u001b[1;32m      4\u001b[0m \u001b[0;32mfor\u001b[0m \u001b[0mi\u001b[0m \u001b[0;32min\u001b[0m \u001b[0mrange\u001b[0m\u001b[0;34m(\u001b[0m\u001b[0;36m8000\u001b[0m\u001b[0;34m)\u001b[0m\u001b[0;34m:\u001b[0m\u001b[0;34m\u001b[0m\u001b[0m\n\u001b[0;32m----> 5\u001b[0;31m     \u001b[0mupdateLed\u001b[0m\u001b[0;34m(\u001b[0m \u001b[0ms\u001b[0m\u001b[0;34m,\u001b[0m \u001b[0mx\u001b[0m\u001b[0;34m,\u001b[0m \u001b[0;36m0\u001b[0m \u001b[0;34m)\u001b[0m\u001b[0;34m\u001b[0m\u001b[0m\n\u001b[0m\u001b[1;32m      6\u001b[0m     \u001b[0mupdateLed\u001b[0m\u001b[0;34m(\u001b[0m \u001b[0ms\u001b[0m\u001b[0;34m,\u001b[0m \u001b[0mx\u001b[0m\u001b[0;34m,\u001b[0m \u001b[0;36m1\u001b[0m \u001b[0;34m)\u001b[0m\u001b[0;34m\u001b[0m\u001b[0m\n\u001b[1;32m      7\u001b[0m     \u001b[0mupdateLed\u001b[0m\u001b[0;34m(\u001b[0m \u001b[0ms\u001b[0m\u001b[0;34m,\u001b[0m \u001b[0mx\u001b[0m\u001b[0;34m,\u001b[0m \u001b[0;36m2\u001b[0m \u001b[0;34m)\u001b[0m\u001b[0;34m\u001b[0m\u001b[0m\n",
      "\u001b[0;32m<ipython-input-2-2f809c1e93bb>\u001b[0m in \u001b[0;36mupdateLed\u001b[0;34m(sObj, dat, channel)\u001b[0m\n\u001b[1;32m     10\u001b[0m         \u001b[0mledDat\u001b[0m \u001b[0;34m=\u001b[0m \u001b[0mbytearray\u001b[0m\u001b[0;34m(\u001b[0m \u001b[0mdat\u001b[0m \u001b[0;34m)\u001b[0m\u001b[0;34m\u001b[0m\u001b[0m\n\u001b[1;32m     11\u001b[0m     \u001b[0msDat\u001b[0m \u001b[0;34m=\u001b[0m \u001b[0mbytes\u001b[0m\u001b[0;34m(\u001b[0m\u001b[0;34m\"LED {0} {1}\\n\"\u001b[0m\u001b[0;34m.\u001b[0m\u001b[0mformat\u001b[0m\u001b[0;34m(\u001b[0m\u001b[0mchannel\u001b[0m\u001b[0;34m,\u001b[0m \u001b[0mlen\u001b[0m\u001b[0;34m(\u001b[0m\u001b[0mledDat\u001b[0m\u001b[0;34m)\u001b[0m\u001b[0;34m)\u001b[0m\u001b[0;34m,\u001b[0m \u001b[0;34m\"utf8\"\u001b[0m\u001b[0;34m)\u001b[0m \u001b[0;34m+\u001b[0m \u001b[0mledDat\u001b[0m\u001b[0;34m\u001b[0m\u001b[0m\n\u001b[0;32m---> 12\u001b[0;31m     \u001b[0msObj\u001b[0m\u001b[0;34m.\u001b[0m\u001b[0mwrite\u001b[0m\u001b[0;34m(\u001b[0m \u001b[0msDat\u001b[0m \u001b[0;34m)\u001b[0m\u001b[0;34m\u001b[0m\u001b[0m\n\u001b[0m",
      "\u001b[0;32m/usr/local/lib/python3.4/dist-packages/serial/serialposix.py\u001b[0m in \u001b[0;36mwrite\u001b[0;34m(self, data)\u001b[0m\n\u001b[1;32m    554\u001b[0m                     \u001b[0;32massert\u001b[0m \u001b[0mtimeout\u001b[0m\u001b[0;34m.\u001b[0m\u001b[0mtime_left\u001b[0m\u001b[0;34m(\u001b[0m\u001b[0;34m)\u001b[0m \u001b[0;32mis\u001b[0m \u001b[0;32mNone\u001b[0m\u001b[0;34m\u001b[0m\u001b[0m\n\u001b[1;32m    555\u001b[0m                     \u001b[0;31m# wait for write operation\u001b[0m\u001b[0;34m\u001b[0m\u001b[0;34m\u001b[0m\u001b[0m\n\u001b[0;32m--> 556\u001b[0;31m                     \u001b[0mabort\u001b[0m\u001b[0;34m,\u001b[0m \u001b[0mready\u001b[0m\u001b[0;34m,\u001b[0m \u001b[0m_\u001b[0m \u001b[0;34m=\u001b[0m \u001b[0mselect\u001b[0m\u001b[0;34m.\u001b[0m\u001b[0mselect\u001b[0m\u001b[0;34m(\u001b[0m\u001b[0;34m[\u001b[0m\u001b[0mself\u001b[0m\u001b[0;34m.\u001b[0m\u001b[0mpipe_abort_write_r\u001b[0m\u001b[0;34m]\u001b[0m\u001b[0;34m,\u001b[0m \u001b[0;34m[\u001b[0m\u001b[0mself\u001b[0m\u001b[0;34m.\u001b[0m\u001b[0mfd\u001b[0m\u001b[0;34m]\u001b[0m\u001b[0;34m,\u001b[0m \u001b[0;34m[\u001b[0m\u001b[0;34m]\u001b[0m\u001b[0;34m,\u001b[0m \u001b[0;32mNone\u001b[0m\u001b[0;34m)\u001b[0m\u001b[0;34m\u001b[0m\u001b[0m\n\u001b[0m\u001b[1;32m    557\u001b[0m                     \u001b[0;32mif\u001b[0m \u001b[0mabort\u001b[0m\u001b[0;34m:\u001b[0m\u001b[0;34m\u001b[0m\u001b[0m\n\u001b[1;32m    558\u001b[0m                         \u001b[0mos\u001b[0m\u001b[0;34m.\u001b[0m\u001b[0mread\u001b[0m\u001b[0;34m(\u001b[0m\u001b[0mself\u001b[0m\u001b[0;34m.\u001b[0m\u001b[0mpipe_abort_write_r\u001b[0m\u001b[0;34m,\u001b[0m \u001b[0;36m1\u001b[0m\u001b[0;34m)\u001b[0m\u001b[0;34m\u001b[0m\u001b[0m\n",
      "\u001b[0;31mKeyboardInterrupt\u001b[0m: "
     ]
    }
   ],
   "source": [
    "x = zeros( 59*3, dtype=uint8 )\n",
    "x[0:-1][::2] = 1\n",
    "#x[-6:] = 1\n",
    "for i in range(8000):\n",
    "    updateLed( s, x, 0 )\n",
    "    updateLed( s, x, 1 )\n",
    "    updateLed( s, x, 2 )"
   ]
  },
  {
   "cell_type": "markdown",
   "metadata": {},
   "source": [
    "### Turn ON one color after another"
   ]
  },
  {
   "cell_type": "code",
   "execution_count": 23,
   "metadata": {
    "collapsed": true
   },
   "outputs": [],
   "source": [
    "updateLed(s, zeros(100*3, dtype=uint8), 0 )\n",
    "updateLed(s, zeros(100*3, dtype=uint8), 1 )\n",
    "updateLed(s, zeros(100*3, dtype=uint8), 2 )"
   ]
  },
  {
   "cell_type": "code",
   "execution_count": 26,
   "metadata": {},
   "outputs": [
    {
     "ename": "KeyboardInterrupt",
     "evalue": "",
     "output_type": "error",
     "traceback": [
      "\u001b[0;31m---------------------------------------------------------------------------\u001b[0m",
      "\u001b[0;31mKeyboardInterrupt\u001b[0m                         Traceback (most recent call last)",
      "\u001b[0;32m<ipython-input-26-218cc0414adf>\u001b[0m in \u001b[0;36m<module>\u001b[0;34m()\u001b[0m\n\u001b[1;32m      6\u001b[0m         \u001b[0mupdateLed\u001b[0m\u001b[0;34m(\u001b[0m\u001b[0ms\u001b[0m\u001b[0;34m,\u001b[0m \u001b[0mx\u001b[0m\u001b[0;34m,\u001b[0m \u001b[0;36m1\u001b[0m\u001b[0;34m)\u001b[0m\u001b[0;34m\u001b[0m\u001b[0m\n\u001b[1;32m      7\u001b[0m         \u001b[0mupdateLed\u001b[0m\u001b[0;34m(\u001b[0m\u001b[0ms\u001b[0m\u001b[0;34m,\u001b[0m \u001b[0mx\u001b[0m\u001b[0;34m,\u001b[0m \u001b[0;36m2\u001b[0m\u001b[0;34m)\u001b[0m\u001b[0;34m\u001b[0m\u001b[0m\n\u001b[0;32m----> 8\u001b[0;31m         \u001b[0mtime\u001b[0m\u001b[0;34m.\u001b[0m\u001b[0msleep\u001b[0m\u001b[0;34m(\u001b[0m\u001b[0;36m1\u001b[0m\u001b[0;34m/\u001b[0m\u001b[0;36m60\u001b[0m\u001b[0;34m)\u001b[0m\u001b[0;34m\u001b[0m\u001b[0m\n\u001b[0m\u001b[1;32m      9\u001b[0m     \u001b[0mupdateLed\u001b[0m\u001b[0;34m(\u001b[0m\u001b[0ms\u001b[0m\u001b[0;34m,\u001b[0m \u001b[0mzeros\u001b[0m\u001b[0;34m(\u001b[0m\u001b[0;36m100\u001b[0m\u001b[0;34m*\u001b[0m\u001b[0;36m3\u001b[0m\u001b[0;34m,\u001b[0m \u001b[0mdtype\u001b[0m\u001b[0;34m=\u001b[0m\u001b[0muint8\u001b[0m\u001b[0;34m)\u001b[0m\u001b[0;34m,\u001b[0m \u001b[0;36m0\u001b[0m \u001b[0;34m)\u001b[0m\u001b[0;34m\u001b[0m\u001b[0m\n\u001b[1;32m     10\u001b[0m     \u001b[0mupdateLed\u001b[0m\u001b[0;34m(\u001b[0m\u001b[0ms\u001b[0m\u001b[0;34m,\u001b[0m \u001b[0mzeros\u001b[0m\u001b[0;34m(\u001b[0m\u001b[0;36m100\u001b[0m\u001b[0;34m*\u001b[0m\u001b[0;36m3\u001b[0m\u001b[0;34m,\u001b[0m \u001b[0mdtype\u001b[0m\u001b[0;34m=\u001b[0m\u001b[0muint8\u001b[0m\u001b[0;34m)\u001b[0m\u001b[0;34m,\u001b[0m \u001b[0;36m1\u001b[0m \u001b[0;34m)\u001b[0m\u001b[0;34m\u001b[0m\u001b[0m\n",
      "\u001b[0;31mKeyboardInterrupt\u001b[0m: "
     ]
    }
   ],
   "source": [
    "while(True):\n",
    "    x = zeros( 60*3, dtype=uint8 )\n",
    "    for i in range(len(x)):\n",
    "        x[i] = 255\n",
    "        updateLed(s, x, 0)\n",
    "        updateLed(s, x, 1)\n",
    "        updateLed(s, x, 2)\n",
    "        time.sleep(1/60)\n",
    "    updateLed(s, zeros(100*3, dtype=uint8), 0 )\n",
    "    updateLed(s, zeros(100*3, dtype=uint8), 1 )\n",
    "    updateLed(s, zeros(100*3, dtype=uint8), 2 )\n",
    "    time.sleep(0.5)"
   ]
  },
  {
   "cell_type": "markdown",
   "metadata": {},
   "source": [
    "### LED ticker on button"
   ]
  },
  {
   "cell_type": "code",
   "execution_count": 27,
   "metadata": {
    "collapsed": true
   },
   "outputs": [],
   "source": [
    "curLed = 0\n",
    "z = zeros(100*3, dtype=uint8)\n",
    "updateLed(s, z, 0 )\n",
    "updateLed(s, z, 1 )\n",
    "updateLed(s, z, 2 )"
   ]
  },
  {
   "cell_type": "code",
   "execution_count": 28,
   "metadata": {},
   "outputs": [
    {
     "name": "stdout",
     "output_type": "stream",
     "text": [
      "0\n"
     ]
    }
   ],
   "source": [
    "if curLed > 48:\n",
    "    curLed = 0\n",
    "z[:] = 0\n",
    "z[ curLed*3:curLed*3+3 ] = [255]*3\n",
    "updateLed(s, z, 1 )\n",
    "print( curLed )\n",
    "curLed += 1"
   ]
  },
  {
   "cell_type": "markdown",
   "metadata": {},
   "source": [
    "### All LEDs same color"
   ]
  },
  {
   "cell_type": "code",
   "execution_count": 27,
   "metadata": {
    "collapsed": true
   },
   "outputs": [],
   "source": [
    "x = array( [5, 25, 25]*60, dtype=uint8 )\n",
    "updateLed( s, x, 0 )\n",
    "updateLed( s, x, 1 )\n",
    "updateLed( s, x, 2 )"
   ]
  },
  {
   "cell_type": "markdown",
   "metadata": {},
   "source": [
    "### Gamma corrected fade-UP"
   ]
  },
  {
   "cell_type": "code",
   "execution_count": 30,
   "metadata": {
    "collapsed": true
   },
   "outputs": [],
   "source": [
    "# Precompute quadratic brightness values\n",
    "bVals = array( arange(33)**2/4, dtype=uint8 )\n",
    "bVals[-1] = 255"
   ]
  },
  {
   "cell_type": "code",
   "execution_count": 31,
   "metadata": {
    "collapsed": true
   },
   "outputs": [],
   "source": [
    "for bVal in bVals:\n",
    "    x = array( [bVal, bVal, bVal]*5, dtype=uint8 )\n",
    "    updateLed( s, x, 0 )\n",
    "    time.sleep(0.03)"
   ]
  },
  {
   "cell_type": "markdown",
   "metadata": {},
   "source": [
    "### Each LED a random color"
   ]
  },
  {
   "cell_type": "code",
   "execution_count": 23,
   "metadata": {
    "collapsed": true
   },
   "outputs": [],
   "source": [
    "# Set it once\n",
    "x = array(random.randint(0,255,60*3),dtype=uint8)\n",
    "#updateLed(s, x, 0)\n",
    "updateLed(s, x, 1)\n",
    "#updateLed(s, x, 2)"
   ]
  },
  {
   "cell_type": "code",
   "execution_count": 28,
   "metadata": {},
   "outputs": [
    {
     "ename": "KeyboardInterrupt",
     "evalue": "",
     "output_type": "error",
     "traceback": [
      "\u001b[0;31m---------------------------------------------------------------------------\u001b[0m",
      "\u001b[0;31mKeyboardInterrupt\u001b[0m                         Traceback (most recent call last)",
      "\u001b[0;32m<ipython-input-28-375df6d79138>\u001b[0m in \u001b[0;36m<module>\u001b[0;34m()\u001b[0m\n\u001b[1;32m      5\u001b[0m     \u001b[0mupdateLed\u001b[0m\u001b[0;34m(\u001b[0m \u001b[0ms\u001b[0m\u001b[0;34m,\u001b[0m \u001b[0mx\u001b[0m\u001b[0;34m,\u001b[0m \u001b[0;36m1\u001b[0m \u001b[0;34m)\u001b[0m\u001b[0;34m\u001b[0m\u001b[0m\n\u001b[1;32m      6\u001b[0m     \u001b[0mupdateLed\u001b[0m\u001b[0;34m(\u001b[0m \u001b[0ms\u001b[0m\u001b[0;34m,\u001b[0m \u001b[0mx\u001b[0m\u001b[0;34m,\u001b[0m \u001b[0;36m2\u001b[0m \u001b[0;34m)\u001b[0m\u001b[0;34m\u001b[0m\u001b[0m\n\u001b[0;32m----> 7\u001b[0;31m     \u001b[0mtime\u001b[0m\u001b[0;34m.\u001b[0m\u001b[0msleep\u001b[0m\u001b[0;34m(\u001b[0m\u001b[0;36m0.05\u001b[0m\u001b[0;34m)\u001b[0m\u001b[0;34m\u001b[0m\u001b[0m\n\u001b[0m",
      "\u001b[0;31mKeyboardInterrupt\u001b[0m: "
     ]
    }
   ],
   "source": [
    "# Set it in a loop\n",
    "while True:\n",
    "    x = array(random.randint(0,2,58*3)*25,dtype=uint8)\n",
    "    updateLed( s, x, 0 )\n",
    "    updateLed( s, x, 1 )\n",
    "    updateLed( s, x, 2 )\n",
    "    time.sleep(0.05)"
   ]
  },
  {
   "cell_type": "markdown",
   "metadata": {},
   "source": [
    "# Rainbow"
   ]
  },
  {
   "cell_type": "markdown",
   "metadata": {},
   "source": [
    "### Darken LEDs"
   ]
  },
  {
   "cell_type": "code",
   "execution_count": 29,
   "metadata": {
    "collapsed": true
   },
   "outputs": [],
   "source": [
    "updateLed( s , zeros(70*3, dtype=uint8), 0 )\n",
    "updateLed( s , zeros(70*3, dtype=uint8), 1 )\n",
    "updateLed( s , zeros(70*3, dtype=uint8), 2 )"
   ]
  },
  {
   "cell_type": "markdown",
   "metadata": {},
   "source": [
    "### Setup color values"
   ]
  },
  {
   "cell_type": "code",
   "execution_count": 30,
   "metadata": {
    "collapsed": true
   },
   "outputs": [],
   "source": [
    "nCols = 80\n",
    "x = arange(nCols)/(nCols-1)\n",
    "x2 = list(map( hsv_to_rgb, x, ones(nCols), ones(nCols)*1.0))\n",
    "rawOut = array( array(x2) * 255, dtype=uint8 )"
   ]
  },
  {
   "cell_type": "markdown",
   "metadata": {},
   "source": [
    "### Roll color values through the string"
   ]
  },
  {
   "cell_type": "code",
   "execution_count": 31,
   "metadata": {},
   "outputs": [
    {
     "ename": "KeyboardInterrupt",
     "evalue": "",
     "output_type": "error",
     "traceback": [
      "\u001b[0;31m---------------------------------------------------------------------------\u001b[0m",
      "\u001b[0;31mKeyboardInterrupt\u001b[0m                         Traceback (most recent call last)",
      "\u001b[0;32m<ipython-input-31-30d0bea8fd0b>\u001b[0m in \u001b[0;36m<module>\u001b[0;34m()\u001b[0m\n\u001b[1;32m      6\u001b[0m     \u001b[0;31m#updateLed( s, rawOut[:60], 2 )\u001b[0m\u001b[0;34m\u001b[0m\u001b[0;34m\u001b[0m\u001b[0m\n\u001b[1;32m      7\u001b[0m     \u001b[0mrawOut\u001b[0m \u001b[0;34m=\u001b[0m \u001b[0mroll\u001b[0m\u001b[0;34m(\u001b[0m\u001b[0mrawOut\u001b[0m\u001b[0;34m,\u001b[0m \u001b[0;36m3\u001b[0m\u001b[0;34m)\u001b[0m\u001b[0;34m\u001b[0m\u001b[0m\n\u001b[0;32m----> 8\u001b[0;31m     \u001b[0mtime\u001b[0m\u001b[0;34m.\u001b[0m\u001b[0msleep\u001b[0m\u001b[0;34m(\u001b[0m\u001b[0;36m1\u001b[0m\u001b[0;34m/\u001b[0m\u001b[0;36m30\u001b[0m\u001b[0;34m)\u001b[0m\u001b[0;34m\u001b[0m\u001b[0m\n\u001b[0m",
      "\u001b[0;31mKeyboardInterrupt\u001b[0m: "
     ]
    }
   ],
   "source": [
    "#z = zeros(3*48, dtype=uint8)\n",
    "while(True):\n",
    "    #updateLed( s, array(rawOut[:60]/5, dtype=uint8), 0 )\n",
    "#    z[24*3:24*3+3] = rawOut[0]\n",
    "    updateLed( s, rawOut[:49], 1 )\n",
    "    #updateLed( s, rawOut[:60], 2 )\n",
    "    rawOut = roll(rawOut, 3)\n",
    "    time.sleep(1/30)"
   ]
  },
  {
   "cell_type": "markdown",
   "metadata": {},
   "source": [
    "# Enable reporting of Switch Events"
   ]
  },
  {
   "cell_type": "code",
   "execution_count": 17,
   "metadata": {},
   "outputs": [
    {
     "data": {
      "text/plain": [
       "6"
      ]
     },
     "execution_count": 17,
     "metadata": {},
     "output_type": "execute_result"
    }
   ],
   "source": [
    "#SWE   : <OnOff> En./Dis. reporting of switch events.\n",
    "s.write(b\"SWE 1\\n\")"
   ]
  },
  {
   "cell_type": "markdown",
   "metadata": {
    "collapsed": true
   },
   "source": [
    "# Play with Relay Outputs"
   ]
  },
  {
   "cell_type": "markdown",
   "metadata": {},
   "source": [
    "### Clean power relay contacts"
   ]
  },
  {
   "cell_type": "code",
   "execution_count": 12,
   "metadata": {},
   "outputs": [
    {
     "ename": "KeyboardInterrupt",
     "evalue": "",
     "output_type": "error",
     "traceback": [
      "\u001b[1;31m---------------------------------------------------------------------------\u001b[0m",
      "\u001b[1;31mKeyboardInterrupt\u001b[0m                         Traceback (most recent call last)",
      "\u001b[1;32m<ipython-input-12-ddc435088f99>\u001b[0m in \u001b[0;36m<module>\u001b[1;34m()\u001b[0m\n\u001b[0;32m      3\u001b[0m     \u001b[0mtime\u001b[0m\u001b[1;33m.\u001b[0m\u001b[0msleep\u001b[0m\u001b[1;33m(\u001b[0m\u001b[1;36m0.1\u001b[0m\u001b[1;33m)\u001b[0m\u001b[1;33m\u001b[0m\u001b[0m\n\u001b[0;32m      4\u001b[0m     \u001b[0ms\u001b[0m\u001b[1;33m.\u001b[0m\u001b[0mwrite\u001b[0m\u001b[1;33m(\u001b[0m\u001b[1;34mb\"SOE 0\\n\"\u001b[0m\u001b[1;33m)\u001b[0m\u001b[1;33m\u001b[0m\u001b[0m\n\u001b[1;32m----> 5\u001b[1;33m     \u001b[0mtime\u001b[0m\u001b[1;33m.\u001b[0m\u001b[0msleep\u001b[0m\u001b[1;33m(\u001b[0m\u001b[1;36m0.1\u001b[0m\u001b[1;33m)\u001b[0m\u001b[1;33m\u001b[0m\u001b[0m\n\u001b[0m",
      "\u001b[1;31mKeyboardInterrupt\u001b[0m: "
     ]
    }
   ],
   "source": [
    "while True:\n",
    "    s.write(b\"SOE 1\\n\")\n",
    "    time.sleep(0.1)\n",
    "    s.write(b\"SOE 0\\n\")\n",
    "    time.sleep(0.1)"
   ]
  },
  {
   "cell_type": "code",
   "execution_count": 1,
   "metadata": {
    "collapsed": true
   },
   "outputs": [],
   "source": [
    "try:\n",
    "    s.close()\n",
    "except:\n",
    "    pass"
   ]
  },
  {
   "cell_type": "code",
   "execution_count": 2,
   "metadata": {},
   "outputs": [
    {
     "ename": "NameError",
     "evalue": "name 'serial' is not defined",
     "output_type": "error",
     "traceback": [
      "\u001b[1;31m---------------------------------------------------------------------------\u001b[0m",
      "\u001b[1;31mNameError\u001b[0m                                 Traceback (most recent call last)",
      "\u001b[1;32m<ipython-input-2-8cdef2e5816f>\u001b[0m in \u001b[0;36m<module>\u001b[1;34m()\u001b[0m\n\u001b[1;32m----> 1\u001b[1;33m \u001b[0ms\u001b[0m \u001b[1;33m=\u001b[0m \u001b[0mserial\u001b[0m\u001b[1;33m.\u001b[0m\u001b[0mSerial\u001b[0m\u001b[1;33m(\u001b[0m \u001b[1;34m\"/dev/ttyACM0\"\u001b[0m\u001b[1;33m,\u001b[0m \u001b[0mtimeout\u001b[0m\u001b[1;33m=\u001b[0m\u001b[1;36m1\u001b[0m \u001b[1;33m)\u001b[0m\u001b[1;33m\u001b[0m\u001b[0m\n\u001b[0m",
      "\u001b[1;31mNameError\u001b[0m: name 'serial' is not defined"
     ]
    }
   ],
   "source": [
    "s = serial.Serial( \"/dev/ttyACM0\", timeout=1 )"
   ]
  },
  {
   "cell_type": "markdown",
   "metadata": {},
   "source": [
    "### Flush serial input buffer"
   ]
  },
  {
   "cell_type": "code",
   "execution_count": 8,
   "metadata": {},
   "outputs": [
    {
     "name": "stdout",
     "output_type": "stream",
     "text": [
      "b''\n",
      "b'ID:MB:V0.1\\n'\n"
     ]
    }
   ],
   "source": [
    "print( s.read_all() )\n",
    "s.write(b\"\\n*IDN?\\n\")\n",
    "print( s.read_until() )"
   ]
  },
  {
   "cell_type": "markdown",
   "metadata": {},
   "source": [
    "### Enable Power Relay"
   ]
  },
  {
   "cell_type": "code",
   "execution_count": 9,
   "metadata": {},
   "outputs": [
    {
     "data": {
      "text/plain": [
       "6"
      ]
     },
     "execution_count": 9,
     "metadata": {},
     "output_type": "execute_result"
    }
   ],
   "source": [
    "s.write(b\"SOE 1\\n\")"
   ]
  },
  {
   "cell_type": "markdown",
   "metadata": {},
   "source": [
    "### Set a Solenoid to a specific power"
   ]
  },
  {
   "cell_type": "code",
   "execution_count": 53,
   "metadata": {},
   "outputs": [
    {
     "data": {
      "text/plain": [
       "11"
      ]
     },
     "execution_count": 53,
     "metadata": {},
     "output_type": "execute_result"
    }
   ],
   "source": [
    "#OUT   : <hwIndex> <PWMlow>\n",
    "s.write(b\"OUT 0x40 0\\n\")"
   ]
  },
  {
   "cell_type": "markdown",
   "metadata": {},
   "source": [
    "### Trigger a solenoid pulse"
   ]
  },
  {
   "cell_type": "code",
   "execution_count": 72,
   "metadata": {},
   "outputs": [
    {
     "data": {
      "text/plain": [
       "16"
      ]
     },
     "execution_count": 72,
     "metadata": {},
     "output_type": "execute_result"
    }
   ],
   "source": [
    "#OUT   : <hwIndex> <PWMlow> [tPulse] [PWMhigh]\n",
    "s.write(b\"OUT 0x40 0 20 2\\n\")\n",
    "s.write(b\"OUT 0x41 0 20 2\\n\")\n",
    "s.write(b\"OUT 0x42 0 20 2\\n\")"
   ]
  },
  {
   "cell_type": "markdown",
   "metadata": {},
   "source": [
    "### Mushrooms"
   ]
  },
  {
   "cell_type": "code",
   "execution_count": 20,
   "metadata": {},
   "outputs": [
    {
     "ename": "TypeError",
     "evalue": "unicode strings are not supported, please encode to bytes: 'OUT 0x40 0 500 6\\n'",
     "output_type": "error",
     "traceback": [
      "\u001b[1;31m---------------------------------------------------------------------------\u001b[0m",
      "\u001b[1;31mTypeError\u001b[0m                                 Traceback (most recent call last)",
      "\u001b[1;32m<ipython-input-20-0ad7d8e28d64>\u001b[0m in \u001b[0;36m<module>\u001b[1;34m()\u001b[0m\n\u001b[1;32m----> 1\u001b[1;33m \u001b[0ms\u001b[0m\u001b[1;33m.\u001b[0m\u001b[0mwrite\u001b[0m\u001b[1;33m(\u001b[0m \u001b[1;34m\"OUT 0x40 0 500 6\\n\"\u001b[0m \u001b[1;33m)\u001b[0m\u001b[1;33m\u001b[0m\u001b[0m\n\u001b[0m",
      "\u001b[1;32m/home/michael/anaconda3/lib/python3.5/site-packages/serial/serialposix.py\u001b[0m in \u001b[0;36mwrite\u001b[1;34m(self, data)\u001b[0m\n\u001b[0;32m    492\u001b[0m         \u001b[1;32mif\u001b[0m \u001b[1;32mnot\u001b[0m \u001b[0mself\u001b[0m\u001b[1;33m.\u001b[0m\u001b[0mis_open\u001b[0m\u001b[1;33m:\u001b[0m\u001b[1;33m\u001b[0m\u001b[0m\n\u001b[0;32m    493\u001b[0m             \u001b[1;32mraise\u001b[0m \u001b[0mportNotOpenError\u001b[0m\u001b[1;33m\u001b[0m\u001b[0m\n\u001b[1;32m--> 494\u001b[1;33m         \u001b[0md\u001b[0m \u001b[1;33m=\u001b[0m \u001b[0mto_bytes\u001b[0m\u001b[1;33m(\u001b[0m\u001b[0mdata\u001b[0m\u001b[1;33m)\u001b[0m\u001b[1;33m\u001b[0m\u001b[0m\n\u001b[0m\u001b[0;32m    495\u001b[0m         \u001b[0mtx_len\u001b[0m \u001b[1;33m=\u001b[0m \u001b[0mlen\u001b[0m\u001b[1;33m(\u001b[0m\u001b[0md\u001b[0m\u001b[1;33m)\u001b[0m\u001b[1;33m\u001b[0m\u001b[0m\n\u001b[0;32m    496\u001b[0m         \u001b[0mtimeout\u001b[0m \u001b[1;33m=\u001b[0m \u001b[0mself\u001b[0m\u001b[1;33m.\u001b[0m\u001b[0m_write_timeout\u001b[0m\u001b[1;33m\u001b[0m\u001b[0m\n",
      "\u001b[1;32m/home/michael/anaconda3/lib/python3.5/site-packages/serial/serialutil.py\u001b[0m in \u001b[0;36mto_bytes\u001b[1;34m(seq)\u001b[0m\n\u001b[0;32m     61\u001b[0m         \u001b[1;32mreturn\u001b[0m \u001b[0mseq\u001b[0m\u001b[1;33m.\u001b[0m\u001b[0mtobytes\u001b[0m\u001b[1;33m(\u001b[0m\u001b[1;33m)\u001b[0m\u001b[1;33m\u001b[0m\u001b[0m\n\u001b[0;32m     62\u001b[0m     \u001b[1;32melif\u001b[0m \u001b[0misinstance\u001b[0m\u001b[1;33m(\u001b[0m\u001b[0mseq\u001b[0m\u001b[1;33m,\u001b[0m \u001b[0municode\u001b[0m\u001b[1;33m)\u001b[0m\u001b[1;33m:\u001b[0m\u001b[1;33m\u001b[0m\u001b[0m\n\u001b[1;32m---> 63\u001b[1;33m         \u001b[1;32mraise\u001b[0m \u001b[0mTypeError\u001b[0m\u001b[1;33m(\u001b[0m\u001b[1;34m'unicode strings are not supported, please encode to bytes: {!r}'\u001b[0m\u001b[1;33m.\u001b[0m\u001b[0mformat\u001b[0m\u001b[1;33m(\u001b[0m\u001b[0mseq\u001b[0m\u001b[1;33m)\u001b[0m\u001b[1;33m)\u001b[0m\u001b[1;33m\u001b[0m\u001b[0m\n\u001b[0m\u001b[0;32m     64\u001b[0m     \u001b[1;32melse\u001b[0m\u001b[1;33m:\u001b[0m\u001b[1;33m\u001b[0m\u001b[0m\n\u001b[0;32m     65\u001b[0m         \u001b[0mb\u001b[0m \u001b[1;33m=\u001b[0m \u001b[0mbytearray\u001b[0m\u001b[1;33m(\u001b[0m\u001b[1;33m)\u001b[0m\u001b[1;33m\u001b[0m\u001b[0m\n",
      "\u001b[1;31mTypeError\u001b[0m: unicode strings are not supported, please encode to bytes: 'OUT 0x40 0 500 6\\n'"
     ]
    }
   ],
   "source": [
    "s.write( \"OUT 0x40 0 500 6\\n\" )"
   ]
  },
  {
   "cell_type": "code",
   "execution_count": 60,
   "metadata": {},
   "outputs": [
    {
     "data": {
      "text/plain": [
       "19"
      ]
     },
     "execution_count": 60,
     "metadata": {},
     "output_type": "execute_result"
    }
   ],
   "source": [
    "for i in (0x40, 0x41, 0x42):\n",
    "    s.write( \"OUT {0} 0 50 2\\n\".format(i).encode(\"utf8\") )\n",
    "    time.sleep( 0.1 )\n",
    "s.write( b\"OUT 0x3D 0 50 1000\\n\" )"
   ]
  },
  {
   "cell_type": "markdown",
   "metadata": {},
   "source": [
    "### Flippers"
   ]
  },
  {
   "cell_type": "code",
   "execution_count": 44,
   "metadata": {
    "collapsed": true
   },
   "outputs": [],
   "source": [
    "for i in (0x3C, 0x3E):\n",
    "    s.write( \"OUT {0} 0 50 2000\\n\".format(i).encode(\"utf8\") )\n",
    "    time.sleep( 0.1 )"
   ]
  },
  {
   "cell_type": "markdown",
   "metadata": {},
   "source": [
    "# Setup quick-fire rules"
   ]
  },
  {
   "cell_type": "markdown",
   "metadata": {},
   "source": [
    "Trigger Second Solenoid when Second Switch closes"
   ]
  },
  {
   "cell_type": "code",
   "execution_count": 52,
   "metadata": {},
   "outputs": [
    {
     "data": {
      "text/plain": [
       "28"
      ]
     },
     "execution_count": 52,
     "metadata": {},
     "output_type": "execute_result"
    }
   ],
   "source": [
    "#RUL <ID> <IDin> <IDout> <trHoldOff> <tPulse> <pwmOn> <pwmOff> <bPosEdge>\n",
    "s.write(b\"RUL 0 0x0000 64 30 20 5 0 1\\n\")"
   ]
  },
  {
   "cell_type": "markdown",
   "metadata": {},
   "source": [
    "First switch --> First Solenoid. Add a 1000 ms hold-off time (triggers max. once a second). "
   ]
  },
  {
   "cell_type": "code",
   "execution_count": 53,
   "metadata": {},
   "outputs": [
    {
     "data": {
      "text/plain": [
       "31"
      ]
     },
     "execution_count": 53,
     "metadata": {},
     "output_type": "execute_result"
    }
   ],
   "source": [
    "s.write(b\"RUL 1 0x0000 64 1000 100 5 0 1\\n\")"
   ]
  },
  {
   "cell_type": "markdown",
   "metadata": {},
   "source": [
    "### Disable the rules"
   ]
  },
  {
   "cell_type": "code",
   "execution_count": 75,
   "metadata": {
    "collapsed": true
   },
   "outputs": [],
   "source": [
    "for i in range(16):\n",
    "    s.write(\"RULE {0} 0\\n\".format(i).encode(\"UTF8\"))"
   ]
  },
  {
   "cell_type": "markdown",
   "metadata": {},
   "source": [
    "### Rules for basic Flipper operation (Fan-Tas-Tic)"
   ]
  },
  {
   "cell_type": "code",
   "execution_count": 10,
   "metadata": {
    "scrolled": true
   },
   "outputs": [
    {
     "name": "stdout",
     "output_type": "stream",
     "text": [
      "RUL 4 5 64 0 20 4 0 0\n",
      "\n",
      "RUL 5 4 65 0 20 4 0 0\n",
      "\n",
      "RUL 6 3 66 0 20 4 0 0\n",
      "\n",
      "RUL 7 26 61 0 20 2500 0 0\n",
      "\n",
      "RUL 8 40 68 0 20 4 0 0\n",
      "\n",
      "RUL 9 23 63 0 20 2500 0 0\n",
      "\n",
      "RUL 10 22 70 1000 75 3 0 1\n",
      "\n",
      "RUL 11 35 71 1000 75 3 0 1\n",
      "\n",
      "RUL 12 0 67 1000 75 3 0 1\n",
      "\n"
     ]
    }
   ],
   "source": [
    "#RUL    <ID><IDin><IDout><trHoldOff><tPulse><pwmOn><pwmOff><bPosEdge>\n",
    "# Note that buttons are active low\n",
    "# Flipper rules\n",
    "# Attack + Hold on neg. edge\n",
    "s.write(b\"RUL 0 0x4C 0x3C 200 75 1500 500 0\\n\")\n",
    "s.write(b\"RUL 1 0x4F 0x3E 200 75 1500 500 0\\n\")\n",
    "# Release on pos. edge\n",
    "s.write(b\"RUL 2 0x4C 0x3C 0 0 0 0 1\\n\")\n",
    "s.write(b\"RUL 3 0x4F 0x3E 0 0 0 0 1\\n\")\n",
    "# Jet bumper rules\n",
    "rulId = 4\n",
    "for hwIndexIn, hwIndexOut in zip( (0x05, 0x04, 0x03, 0x1A, 0x28, 0x17), (0x40, 0x41, 0x42, 0x3D, 0x44, 0x3F) ):\n",
    "    if hwIndexOut in (0x3D, 0x3F):\n",
    "        power = 2500\n",
    "    else:\n",
    "        power = 4\n",
    "    rulStr = \"RUL {0} {1} {2} 0 20 {3} 0 0\\n\".format( rulId, hwIndexIn, hwIndexOut, power )\n",
    "    print( rulStr )\n",
    "    s.write( rulStr.encode(\"UTF8\") )\n",
    "    rulId += 1\n",
    "    # disable debouncing for the jet bumper inputs\n",
    "    #s.write( \"DEB {0} 0\\n\".format(hwIndexIn).encode(\"UTF8\") )\n",
    "# Captive ball rules\n",
    "for hwIndexIn, hwIndexOut in zip( (0x16, 0x23, 0x00), (0x46, 0x47, 0x43) ):\n",
    "    rulStr = \"RUL {0} {1} {2} 1000 75 3 0 1\\n\".format( rulId, hwIndexIn, hwIndexOut )\n",
    "    print( rulStr )\n",
    "    s.write( rulStr.encode(\"UTF8\") )\n",
    "    rulId += 1\n",
    "\n",
    "    "
   ]
  },
  {
   "cell_type": "markdown",
   "metadata": {},
   "source": [
    "    #Flippers\n",
    "    RUL 0 0x4C 0x3C 200 75 3000 500 0\n",
    "    RUL 1 0x4F 0x3E 200 75 3000 500 0\n",
    "    RUL 2 0x4C 0x3C 0 0 0 0 1\n",
    "    RUL 3 0x4F 0x3E 0 0 0 0 1\n",
    "\n",
    "    #Jet bumpers\n",
    "    RUL 4 5 64 0 15 4 0 1\n",
    "    RUL 5 4 65 0 15 4 0 1\n",
    "    RUL 6 3 66 0 15 4 0 1\n",
    "    RUL 7 26 61 0 15 4000 0 1\n",
    "    \n",
    "    #Captive holes\n",
    "    #R\n",
    "    RUL 8 0x16 0x46 500 75 3 0 1\n",
    "    #L\n",
    "    RUL 9 0x23 0x47 500 75 3 0 1\n",
    "    #T\n",
    "    RUL 10 0x00 0x43 500 75 3 0 1\n",
    "    "
   ]
  },
  {
   "cell_type": "code",
   "execution_count": 33,
   "metadata": {},
   "outputs": [
    {
     "data": {
      "text/plain": [
       "17"
      ]
     },
     "execution_count": 33,
     "metadata": {},
     "output_type": "execute_result"
    }
   ],
   "source": [
    "s.write(b\"OUT 0x48 0 200 2\\n\")"
   ]
  },
  {
   "cell_type": "code",
   "execution_count": 19,
   "metadata": {
    "collapsed": true
   },
   "outputs": [],
   "source": [
    "s.close()\n"
   ]
  },
  {
   "cell_type": "code",
   "execution_count": 18,
   "metadata": {},
   "outputs": [
    {
     "data": {
      "text/plain": [
       "6"
      ]
     },
     "execution_count": 18,
     "metadata": {},
     "output_type": "execute_result"
    }
   ],
   "source": [
    "s.write(b\"SWE 0\\n\")"
   ]
  },
  {
   "cell_type": "markdown",
   "metadata": {},
   "source": [
    "# Pseudo console"
   ]
  },
  {
   "cell_type": "code",
   "execution_count": 11,
   "metadata": {
    "scrolled": true
   },
   "outputs": [
    {
     "name": "stdout",
     "output_type": "stream",
     "text": [
      "b'SE:04f=0 \\n'\n",
      "b'SE:018=1 030=1 \\n'\n",
      "b'SE:04f=1 \\n'\n",
      "b'SE:018=0 030=0 \\n'\n",
      "b'SE:030=1 033=1 \\n'\n",
      "b'SE:020=0 \\n'\n",
      "b'SE:020=1 \\n'\n",
      "b'SE:04f=0 \\n'\n",
      "b'SE:018=1 \\n'\n",
      "b'SE:04f=1 \\n'\n",
      "b'SE:04c=0 \\n'\n",
      "b'SE:018=0 \\n'\n",
      "b'SE:04d=0 \\n'\n",
      "b'SE:01b=1 \\n'\n",
      "b'SE:04d=1 \\n'\n",
      "b'SE:04c=1 \\n'\n",
      "b'SE:01b=0 \\n'\n",
      "b'SE:004=0 \\n'\n",
      "b'SE:004=1 \\n'\n",
      "b'SE:00a=0 \\n'\n",
      "b'SE:00a=1 \\n'\n",
      "b'SE:005=0 \\n'\n",
      "b'SE:005=1 \\n'\n",
      "b'SE:01c=0 \\n'\n",
      "b'SE:01c=1 \\n'\n",
      "b'SE:019=0 \\n'\n",
      "b'SE:019=1 \\n'\n",
      "b'SE:01c=0 \\n'\n",
      "b'SE:01c=1 \\n'\n",
      "b'SE:01c=0 \\n'\n",
      "b'SE:01c=1 \\n'\n",
      "b'SE:04c=0 \\n'\n",
      "b'SE:04d=0 \\n'\n",
      "b'SE:01b=1 \\n'\n",
      "b'SE:04d=1 \\n'\n",
      "b'SE:04c=1 \\n'\n",
      "b'SE:01b=0 \\n'\n",
      "b'SE:00c=0 \\n'\n",
      "b'SE:00d=0 \\n'\n",
      "b'SE:00d=1 \\n'\n",
      "b'SE:00c=1 \\n'\n",
      "b'SE:04f=0 \\n'\n",
      "b'SE:018=1 \\n'\n",
      "b'SE:04f=1 \\n'\n",
      "b'SE:018=0 \\n'\n",
      "b'SE:01a=0 \\n'\n",
      "b'SE:01a=1 \\n'\n",
      "b'SE:01a=0 \\n'\n",
      "b'SE:01a=1 \\n'\n",
      "b'SE:030=0 033=0 \\n'\n",
      "b'SE:030=1 033=1 \\n'\n",
      "b'SE:030=0 033=0 \\n'\n",
      "b'SE:030=1 033=1 \\n'\n",
      "b'SE:020=0 \\n'\n",
      "b'SE:020=1 \\n'\n",
      "b'SE:003=0 \\n'\n",
      "b'SE:003=1 \\n'\n",
      "b'SE:004=0 \\n'\n",
      "b'SE:004=1 \\n'\n",
      "b'SE:004=0 \\n'\n",
      "b'SE:004=1 \\n'\n",
      "b'SE:005=0 \\n'\n",
      "b'SE:005=1 \\n'\n",
      "b'SE:013=0 \\n'\n",
      "b'SE:013=1 \\n'\n",
      "b'SE:04c=0 \\n'\n",
      "b'SE:01b=1 \\n'\n",
      "b'SE:04c=1 \\n'\n",
      "b'SE:01b=0 \\n'\n",
      "b'SE:04f=0 \\n'\n",
      "b'SE:018=1 \\n'\n",
      "b'SE:04f=1 \\n'\n",
      "b'SE:018=0 \\n'\n",
      "b'SE:04f=0 \\n'\n",
      "b'SE:018=1 \\n'\n",
      "b'SE:04f=1 \\n'\n",
      "b'SE:018=0 \\n'\n",
      "b'SE:04c=0 \\n'\n",
      "b'SE:04d=0 \\n'\n",
      "b'SE:01b=1 \\n'\n",
      "b'SE:04d=1 \\n'\n",
      "b'SE:04c=1 \\n'\n",
      "b'SE:01b=0 \\n'\n",
      "b'SE:00c=0 00d=0 \\n'\n",
      "b'SE:00d=1 \\n'\n",
      "b'SE:00c=1 \\n'\n",
      "b'SE:019=0 \\n'\n",
      "b'SE:019=1 \\n'\n",
      "b'SE:04f=0 \\n'\n",
      "b'SE:018=1 \\n'\n",
      "b'SE:04f=1 \\n'\n",
      "b'SE:018=0 \\n'\n",
      "b'SE:00e=0 00f=0 \\n'\n",
      "b'SE:00f=1 \\n'\n",
      "b'SE:00e=1 \\n'\n",
      "b'SE:01c=0 \\n'\n",
      "b'SE:04c=0 \\n'\n",
      "b'SE:04d=0 \\n'\n",
      "b'SE:01b=1 \\n'\n",
      "b'SE:01c=1 \\n'\n",
      "b'SE:04d=1 \\n'\n",
      "b'SE:04c=1 \\n'\n",
      "b'SE:01b=0 \\n'\n",
      "b'SE:04f=0 \\n'\n",
      "b'SE:018=1 \\n'\n",
      "b'SE:04f=1 \\n'\n",
      "b'SE:018=0 \\n'\n",
      "b'SE:00b=0 \\n'\n",
      "b'SE:00b=1 \\n'\n",
      "b'SE:04c=0 \\n'\n",
      "b'SE:04d=0 \\n'\n",
      "b'SE:01b=1 \\n'\n",
      "b'SE:04d=1 \\n'\n",
      "b'SE:04c=1 \\n'\n",
      "b'SE:01b=0 \\n'\n",
      "b'SE:019=0 \\n'\n",
      "b'SE:019=1 \\n'\n",
      "b'SE:04f=0 \\n'\n",
      "b'SE:018=1 \\n'\n",
      "b'SE:04f=1 \\n'\n",
      "b'SE:018=0 \\n'\n",
      "b'SE:00e=0 00f=0 \\n'\n",
      "b'SE:00f=1 \\n'\n",
      "b'SE:00e=1 \\n'\n",
      "b'SE:01a=0 \\n'\n",
      "b'SE:01a=1 \\n'\n",
      "b'SE:04f=0 \\n'\n",
      "b'SE:018=1 \\n'\n",
      "b'SE:010=0 \\n'\n",
      "b'SE:011=0 \\n'\n",
      "b'SE:011=1 \\n'\n",
      "b'SE:010=1 \\n'\n",
      "b'SE:04f=1 \\n'\n",
      "b'SE:018=0 \\n'\n",
      "b'SE:01a=0 \\n'\n",
      "b'SE:01a=1 \\n'\n",
      "b'SE:01a=0 \\n'\n",
      "b'SE:01a=1 \\n'\n",
      "b'SE:01a=0 \\n'\n",
      "b'SE:01a=1 \\n'\n",
      "b'SE:030=0 033=0 \\n'\n",
      "b'SE:030=1 033=1 \\n'\n",
      "b'SE:020=0 \\n'\n",
      "b'SE:020=1 \\n'\n",
      "b'SE:000=0 \\n'\n",
      "b'SE:000=1 \\n'\n",
      "b'SE:004=0 \\n'\n",
      "b'SE:004=1 \\n'\n",
      "b'SE:005=0 \\n'\n",
      "b'SE:005=1 \\n'\n",
      "b'SE:004=0 \\n'\n",
      "b'SE:004=1 \\n'\n",
      "b'SE:00b=0 \\n'\n",
      "b'SE:00b=1 \\n'\n",
      "b'SE:04c=0 \\n'\n",
      "b'SE:01b=1 \\n'\n",
      "b'SE:04d=0 \\n'\n",
      "b'SE:00c=0 00d=0 \\n'\n",
      "b'SE:00d=1 \\n'\n",
      "b'SE:00c=1 \\n'\n",
      "b'SE:04d=1 \\n'\n",
      "b'SE:04c=1 \\n'\n",
      "b'SE:01b=0 \\n'\n",
      "b'SE:04f=0 \\n'\n",
      "b'SE:018=1 \\n'\n",
      "b'SE:04f=1 \\n'\n",
      "b'SE:018=0 \\n'\n",
      "b'SE:00e=0 \\n'\n",
      "b'SE:00f=0 \\n'\n",
      "b'SE:00f=1 \\n'\n",
      "b'SE:00e=1 \\n'\n",
      "b'SE:019=0 \\n'\n",
      "b'SE:019=1 \\n'\n",
      "b'SE:04f=0 \\n'\n",
      "b'SE:018=1 \\n'\n",
      "b'SE:04f=1 \\n'\n",
      "b'SE:018=0 \\n'\n",
      "b'SE:010=0 011=0 \\n'\n",
      "b'SE:011=1 \\n'\n",
      "b'SE:010=1 \\n'\n",
      "b'SE:01a=0 \\n'\n",
      "b'SE:01a=1 \\n'\n",
      "b'SE:01a=0 \\n'\n",
      "b'SE:01a=1 \\n'\n",
      "b'SE:01a=0 \\n'\n",
      "b'SE:01a=1 \\n'\n",
      "b'SE:01a=0 \\n'\n",
      "b'SE:01a=1 \\n'\n",
      "b'SE:01a=0 \\n'\n",
      "b'SE:01a=1 \\n'\n",
      "b'SE:01a=0 \\n'\n",
      "b'SE:01a=1 \\n'\n",
      "b'SE:04c=0 \\n'\n",
      "b'SE:04d=0 \\n'\n",
      "b'SE:01b=1 \\n'\n",
      "b'SE:04d=1 \\n'\n",
      "b'SE:04c=1 \\n'\n",
      "b'SE:01b=0 \\n'\n",
      "b'SE:04c=0 \\n'\n",
      "b'SE:04d=0 \\n'\n",
      "b'SE:01b=1 \\n'\n",
      "b'SE:04d=1 \\n'\n",
      "b'SE:04c=1 \\n'\n",
      "b'SE:01b=0 \\n'\n",
      "b'SE:04f=0 \\n'\n",
      "b'SE:018=1 \\n'\n",
      "b'SE:04f=1 \\n'\n",
      "b'SE:018=0 \\n'\n",
      "b'SE:04c=0 \\n'\n",
      "b'SE:04d=0 \\n'\n",
      "b'SE:01b=1 \\n'\n",
      "b'SE:04d=1 \\n'\n",
      "b'SE:04c=1 \\n'\n",
      "b'SE:01b=0 \\n'\n",
      "b'SE:04f=0 \\n'\n",
      "b'SE:018=1 \\n'\n",
      "b'SE:04f=1 \\n'\n",
      "b'SE:018=0 \\n'\n",
      "b'SE:017=0 \\n'\n",
      "b'SE:017=1 \\n'\n",
      "b'SE:020=0 \\n'\n",
      "b'SE:020=1 \\n'\n",
      "b'SE:004=0 \\n'\n",
      "b'SE:004=1 \\n'\n",
      "b'SE:014=0 \\n'\n",
      "b'SE:014=1 \\n'\n",
      "b'SE:012=0 \\n'\n",
      "b'SE:012=1 \\n'\n",
      "b'SE:005=0 \\n'\n",
      "b'SE:005=1 \\n'\n",
      "b'SE:04c=0 \\n'\n",
      "b'SE:04d=0 \\n'\n",
      "b'SE:01b=1 \\n'\n",
      "b'SE:04d=1 \\n'\n",
      "b'SE:013=0 \\n'\n",
      "b'SE:013=1 \\n'\n",
      "b'SE:04c=1 \\n'\n",
      "b'SE:01b=0 \\n'\n",
      "b'SE:01a=0 \\n'\n",
      "b'SE:01a=1 \\n'\n",
      "b'SE:019=0 \\n'\n",
      "b'SE:019=1 \\n'\n",
      "b'SE:04f=0 \\n'\n",
      "b'SE:018=1 \\n'\n",
      "b'SE:04f=1 \\n'\n",
      "b'SE:018=0 \\n'\n",
      "b'SE:023=0 \\n'\n",
      "b'SE:023=1 \\n'\n",
      "b'SE:04c=0 \\n'\n",
      "b'SE:04d=0 \\n'\n",
      "b'SE:01b=1 \\n'\n",
      "b'SE:010=0 \\n'\n",
      "b'SE:011=0 \\n'\n",
      "b'SE:011=1 \\n'\n",
      "b'SE:010=1 04d=1 \\n'\n",
      "b'SE:04c=1 \\n'\n",
      "b'SE:01b=0 \\n'\n",
      "b'SE:01a=0 \\n'\n",
      "b'SE:01a=1 \\n'\n",
      "b'SE:04c=0 \\n'\n",
      "b'SE:04d=0 \\n'\n",
      "b'SE:01b=1 \\n'\n",
      "b'SE:01a=0 \\n'\n",
      "b'SE:01a=1 \\n'\n",
      "b'SE:04d=1 \\n'\n",
      "b'SE:04c=1 \\n'\n",
      "b'SE:01b=0 \\n'\n",
      "b'SE:030=0 033=0 \\n'\n"
     ]
    },
    {
     "ename": "KeyboardInterrupt",
     "evalue": "",
     "output_type": "error",
     "traceback": [
      "\u001b[1;31m---------------------------------------------------------------------------\u001b[0m",
      "\u001b[1;31mKeyboardInterrupt\u001b[0m                         Traceback (most recent call last)",
      "\u001b[1;32m<ipython-input-11-f616726c62df>\u001b[0m in \u001b[0;36m<module>\u001b[1;34m()\u001b[0m\n\u001b[0;32m      1\u001b[0m \u001b[1;32mwhile\u001b[0m \u001b[1;32mTrue\u001b[0m\u001b[1;33m:\u001b[0m\u001b[1;33m\u001b[0m\u001b[0m\n\u001b[1;32m----> 2\u001b[1;33m     \u001b[0mrx\u001b[0m \u001b[1;33m=\u001b[0m \u001b[0ms\u001b[0m\u001b[1;33m.\u001b[0m\u001b[0mread_until\u001b[0m\u001b[1;33m(\u001b[0m\u001b[1;33m)\u001b[0m\u001b[1;33m\u001b[0m\u001b[0m\n\u001b[0m\u001b[0;32m      3\u001b[0m     \u001b[1;32mif\u001b[0m \u001b[0mlen\u001b[0m\u001b[1;33m(\u001b[0m \u001b[0mrx\u001b[0m \u001b[1;33m)\u001b[0m \u001b[1;33m>\u001b[0m \u001b[1;36m0\u001b[0m\u001b[1;33m:\u001b[0m\u001b[1;33m\u001b[0m\u001b[0m\n\u001b[0;32m      4\u001b[0m         \u001b[0mprint\u001b[0m\u001b[1;33m(\u001b[0m \u001b[0mrx\u001b[0m \u001b[1;33m)\u001b[0m\u001b[1;33m\u001b[0m\u001b[0m\n",
      "\u001b[1;32m/home/michael/anaconda3/lib/python3.5/site-packages/serial/serialutil.py\u001b[0m in \u001b[0;36mread_until\u001b[1;34m(self, terminator, size)\u001b[0m\n\u001b[0;32m    584\u001b[0m         \u001b[0mline\u001b[0m \u001b[1;33m=\u001b[0m \u001b[0mbytearray\u001b[0m\u001b[1;33m(\u001b[0m\u001b[1;33m)\u001b[0m\u001b[1;33m\u001b[0m\u001b[0m\n\u001b[0;32m    585\u001b[0m         \u001b[1;32mwhile\u001b[0m \u001b[1;32mTrue\u001b[0m\u001b[1;33m:\u001b[0m\u001b[1;33m\u001b[0m\u001b[0m\n\u001b[1;32m--> 586\u001b[1;33m             \u001b[0mc\u001b[0m \u001b[1;33m=\u001b[0m \u001b[0mself\u001b[0m\u001b[1;33m.\u001b[0m\u001b[0mread\u001b[0m\u001b[1;33m(\u001b[0m\u001b[1;36m1\u001b[0m\u001b[1;33m)\u001b[0m\u001b[1;33m\u001b[0m\u001b[0m\n\u001b[0m\u001b[0;32m    587\u001b[0m             \u001b[1;32mif\u001b[0m \u001b[0mc\u001b[0m\u001b[1;33m:\u001b[0m\u001b[1;33m\u001b[0m\u001b[0m\n\u001b[0;32m    588\u001b[0m                 \u001b[0mline\u001b[0m \u001b[1;33m+=\u001b[0m \u001b[0mc\u001b[0m\u001b[1;33m\u001b[0m\u001b[0m\n",
      "\u001b[1;32m/home/michael/anaconda3/lib/python3.5/site-packages/serial/serialposix.py\u001b[0m in \u001b[0;36mread\u001b[1;34m(self, size)\u001b[0m\n\u001b[0;32m    448\u001b[0m             \u001b[1;32mtry\u001b[0m\u001b[1;33m:\u001b[0m\u001b[1;33m\u001b[0m\u001b[0m\n\u001b[0;32m    449\u001b[0m                 \u001b[0mstart_time\u001b[0m \u001b[1;33m=\u001b[0m \u001b[0mtime\u001b[0m\u001b[1;33m.\u001b[0m\u001b[0mtime\u001b[0m\u001b[1;33m(\u001b[0m\u001b[1;33m)\u001b[0m\u001b[1;33m\u001b[0m\u001b[0m\n\u001b[1;32m--> 450\u001b[1;33m                 \u001b[0mready\u001b[0m\u001b[1;33m,\u001b[0m \u001b[0m_\u001b[0m\u001b[1;33m,\u001b[0m \u001b[0m_\u001b[0m \u001b[1;33m=\u001b[0m \u001b[0mselect\u001b[0m\u001b[1;33m.\u001b[0m\u001b[0mselect\u001b[0m\u001b[1;33m(\u001b[0m\u001b[1;33m[\u001b[0m\u001b[0mself\u001b[0m\u001b[1;33m.\u001b[0m\u001b[0mfd\u001b[0m\u001b[1;33m,\u001b[0m \u001b[0mself\u001b[0m\u001b[1;33m.\u001b[0m\u001b[0mpipe_abort_read_r\u001b[0m\u001b[1;33m]\u001b[0m\u001b[1;33m,\u001b[0m \u001b[1;33m[\u001b[0m\u001b[1;33m]\u001b[0m\u001b[1;33m,\u001b[0m \u001b[1;33m[\u001b[0m\u001b[1;33m]\u001b[0m\u001b[1;33m,\u001b[0m \u001b[0mtimeout\u001b[0m\u001b[1;33m)\u001b[0m\u001b[1;33m\u001b[0m\u001b[0m\n\u001b[0m\u001b[0;32m    451\u001b[0m                 \u001b[1;32mif\u001b[0m \u001b[0mself\u001b[0m\u001b[1;33m.\u001b[0m\u001b[0mpipe_abort_read_r\u001b[0m \u001b[1;32min\u001b[0m \u001b[0mready\u001b[0m\u001b[1;33m:\u001b[0m\u001b[1;33m\u001b[0m\u001b[0m\n\u001b[0;32m    452\u001b[0m                     \u001b[0mos\u001b[0m\u001b[1;33m.\u001b[0m\u001b[0mread\u001b[0m\u001b[1;33m(\u001b[0m\u001b[0mself\u001b[0m\u001b[1;33m.\u001b[0m\u001b[0mpipe_abort_read_r\u001b[0m\u001b[1;33m,\u001b[0m \u001b[1;36m1000\u001b[0m\u001b[1;33m)\u001b[0m\u001b[1;33m\u001b[0m\u001b[0m\n",
      "\u001b[1;31mKeyboardInterrupt\u001b[0m: "
     ]
    }
   ],
   "source": [
    "while True:\n",
    "    rx = s.read_until()\n",
    "    if len( rx ) > 0:\n",
    "        print( rx )"
   ]
  },
  {
   "cell_type": "code",
   "execution_count": 8,
   "metadata": {
    "collapsed": true
   },
   "outputs": [],
   "source": [
    "s.close()"
   ]
  },
  {
   "cell_type": "markdown",
   "metadata": {},
   "source": [
    "# MPF number grouping hack"
   ]
  },
  {
   "cell_type": "code",
   "execution_count": 86,
   "metadata": {},
   "outputs": [],
   "source": [
    "def group_digits(text, separator=\",\", group_size=3):\n",
    "    digit_list = list(text.split('.')[0])\n",
    "    for i in range(len(digit_list))[::-group_size][1:]:\n",
    "        digit_list.insert(i + 1, separator)\n",
    "    return ''.join(digit_list)\n",
    "\n",
    "def nGroup( text ):\n",
    "    # find the numbers in the string\n",
    "    number_list = [s for s in text.split() if s.isdigit()]\n",
    "    # group the numbers and replace them in the string\n",
    "    for item in number_list:\n",
    "        grouped_item = group_digits(item)\n",
    "        text = text.replace(str(item), grouped_item)\n",
    "    return text\n",
    "\n",
    "def nSci( text ):\n",
    "    # find the numbers in the string\n",
    "    number_list = [s for s in text.split() if s.isdigit()]\n",
    "    # group the numbers and replace them in the string\n",
    "    for item in number_list:\n",
    "        print(item)\n",
    "        grouped_item = item\n",
    "        text = text.replace(str(item), grouped_item)\n",
    "    return text\n",
    "\n",
    "def getSci( val ):\n",
    "    i = int(val)\n",
    "    exp = 0\n",
    "    while( i ):\n",
    "        i //= 10\n",
    "        exp += 1\n",
    "    lInd = max(0,(exp-1))\n",
    "    pFix = [\"\", \"k\", \"M\", \"G\", \"T\"]\n",
    "    print( val//10**(lInd), pFix[lInd//3] )"
   ]
  },
  {
   "cell_type": "code",
   "execution_count": 25,
   "metadata": {},
   "outputs": [
    {
     "data": {
      "text/plain": [
       "'bla 124,000,056 dsdsds'"
      ]
     },
     "execution_count": 25,
     "metadata": {},
     "output_type": "execute_result"
    }
   ],
   "source": [
    "nGroup(\"bla 124000056 dsdsds\")"
   ]
  },
  {
   "cell_type": "code",
   "execution_count": 102,
   "metadata": {},
   "outputs": [
    {
     "name": "stdout",
     "output_type": "stream",
     "text": [
      "1 \n"
     ]
    }
   ],
   "source": [
    "getSci(10)"
   ]
  },
  {
   "cell_type": "code",
   "execution_count": null,
   "metadata": {
    "collapsed": true
   },
   "outputs": [],
   "source": []
  }
 ],
 "metadata": {
  "kernelspec": {
   "display_name": "Python 3",
   "language": "python",
   "name": "python3"
  },
  "language_info": {
   "codemirror_mode": {
    "name": "ipython",
    "version": 3
   },
   "file_extension": ".py",
   "mimetype": "text/x-python",
   "name": "python",
   "nbconvert_exporter": "python",
   "pygments_lexer": "ipython3",
   "version": "3.6.1"
  }
 },
 "nbformat": 4,
 "nbformat_minor": 1
}
